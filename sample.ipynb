{
 "cells": [
  {
   "cell_type": "code",
   "execution_count": 2,
   "metadata": {},
   "outputs": [
    {
     "name": "stdout",
     "output_type": "stream",
     "text": [
      "100 files sampled and copied successfully!\n"
     ]
    }
   ],
   "source": [
    "import os\n",
    "import random\n",
    "import shutil\n",
    "\n",
    "def sample_files(source_folder, destination_folder, num_samples):\n",
    "    # Get the list of files in the source folder\n",
    "    files = os.listdir(source_folder)\n",
    "    \n",
    "    # Choose a random sample of files\n",
    "    sampled_files = random.sample(files, num_samples)\n",
    "    \n",
    "    # Create the destination folder if it doesn't exist\n",
    "    if not os.path.exists(destination_folder):\n",
    "        os.makedirs(destination_folder)\n",
    "    \n",
    "    # Copy the sampled files to the destination folder\n",
    "    for file_name in sampled_files:\n",
    "        source_path = os.path.join(source_folder, file_name)\n",
    "        destination_path = os.path.join(destination_folder, file_name)\n",
    "        shutil.copy2(source_path, destination_path)\n",
    "        \n",
    "    print(f\"{num_samples} files sampled and copied successfully!\")\n",
    "\n",
    "# Example usage\n",
    "source_folder = \"/Volumes/T7/论文/plos one\"\n",
    "destination_folder = \"pone_sample/\"\n",
    "num_samples = 100\n",
    "\n",
    "sample_files(source_folder, destination_folder, num_samples)\n"
   ]
  },
  {
   "cell_type": "code",
   "execution_count": 3,
   "metadata": {},
   "outputs": [
    {
     "data": {
      "text/plain": [
       "<Response [200]>"
      ]
     },
     "execution_count": 3,
     "metadata": {},
     "output_type": "execute_result"
    }
   ],
   "source": [
    "import requests\n",
    "\n",
    "r = requests.get(\"https://journals.plos.org/plosone/article/file?id=10.1371/journal.pone.0179687&type=printable\")\n",
    "r"
   ]
  },
  {
   "cell_type": "code",
   "execution_count": 6,
   "metadata": {},
   "outputs": [],
   "source": [
    "with open(\"test.pdf\", \"wb\") as f:\n",
    "    f.write(r.content)"
   ]
  },
  {
   "cell_type": "code",
   "execution_count": 12,
   "metadata": {},
   "outputs": [],
   "source": [
    "import os\n",
    "\n",
    "\n",
    "def iterate_files(folder_path):\n",
    "    # Iterate files and download pdf\n",
    "    for root, dirs, files in os.walk(folder_path):\n",
    "        for file in files:\n",
    "            # file_path = os.path.join(root, file)\n",
    "            name = file[:-4]\n",
    "            url = f\"https://journals.plos.org/plosone/article/file?id=10.1371/{name}&type=printable\"\n",
    "            r = requests.get(url)\n",
    "            with open(f\"pone_sample/pone_sample_pdf/{name}.pdf\", \"wb\") as f:\n",
    "                f.write(r.content)\n",
    "\n",
    "# Example usage:\n",
    "folder_path = \"pone_sample/\"\n",
    "iterate_files(folder_path)\n"
   ]
  },
  {
   "cell_type": "code",
   "execution_count": null,
   "metadata": {},
   "outputs": [],
   "source": []
  }
 ],
 "metadata": {
  "kernelspec": {
   "display_name": ".venv",
   "language": "python",
   "name": "python3"
  },
  "language_info": {
   "codemirror_mode": {
    "name": "ipython",
    "version": 3
   },
   "file_extension": ".py",
   "mimetype": "text/x-python",
   "name": "python",
   "nbconvert_exporter": "python",
   "pygments_lexer": "ipython3",
   "version": "3.11.4"
  },
  "orig_nbformat": 4
 },
 "nbformat": 4,
 "nbformat_minor": 2
}
